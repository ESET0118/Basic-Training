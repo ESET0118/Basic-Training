{
 "cells": [
  {
   "cell_type": "markdown",
   "id": "582ab38d",
   "metadata": {},
   "source": [
    "# Assignment"
   ]
  },
  {
   "cell_type": "code",
   "execution_count": 2,
   "id": "a3c43574",
   "metadata": {},
   "outputs": [],
   "source": [
    "import numpy as np\n",
    "import pandas as pd"
   ]
  },
  {
   "cell_type": "markdown",
   "id": "4cfe8dc4",
   "metadata": {},
   "source": [
    "# NUMPY"
   ]
  },
  {
   "cell_type": "code",
   "execution_count": 10,
   "id": "37052076",
   "metadata": {},
   "outputs": [
    {
     "name": "stdout",
     "output_type": "stream",
     "text": [
      "[[1 2 3]\n",
      " [4 5 6]\n",
      " [7 8 9]]\n",
      "[[ 2  4  6]\n",
      " [ 8 10 12]\n",
      " [14 16 18]]\n"
     ]
    }
   ],
   "source": [
    "dict=[[1,2,3],[4,5,6],[7,8,9]]\n",
    "arr=np.array(dict)\n",
    "print(arr)\n",
    "arr*=2\n",
    "print(arr)"
   ]
  },
  {
   "cell_type": "markdown",
   "id": "e485eb97",
   "metadata": {},
   "source": [
    "# Dataframe"
   ]
  },
  {
   "cell_type": "code",
   "execution_count": 23,
   "id": "0bfc409b",
   "metadata": {},
   "outputs": [
    {
     "name": "stdout",
     "output_type": "stream",
     "text": [
      "  product_name  price  stock_quantity\n",
      "0            A    100              45\n",
      "1            B    150              50\n",
      "2            C    200              60\n"
     ]
    }
   ],
   "source": [
    "dict={\"product_name\":[\"A\",\"B\",\"C\"],\"price\":[100,150,200],\"stock_quantity\":[45,50,60]}\n",
    "df=pd.DataFrame(dict)\n",
    "print(df)"
   ]
  },
  {
   "cell_type": "markdown",
   "id": "5e31feed",
   "metadata": {},
   "source": [
    "# Filtering"
   ]
  },
  {
   "cell_type": "code",
   "execution_count": 28,
   "id": "961758c0",
   "metadata": {},
   "outputs": [
    {
     "name": "stdout",
     "output_type": "stream",
     "text": [
      "  product_name  price  stock_quantity\n",
      "2            C    200              60\n"
     ]
    }
   ],
   "source": [
    "print(df[df['stock_quantity']>50])"
   ]
  },
  {
   "cell_type": "code",
   "execution_count": null,
   "id": "dc2439bd",
   "metadata": {},
   "outputs": [],
   "source": []
  }
 ],
 "metadata": {
  "kernelspec": {
   "display_name": "my_env",
   "language": "python",
   "name": "python3"
  },
  "language_info": {
   "codemirror_mode": {
    "name": "ipython",
    "version": 3
   },
   "file_extension": ".py",
   "mimetype": "text/x-python",
   "name": "python",
   "nbconvert_exporter": "python",
   "pygments_lexer": "ipython3",
   "version": "3.13.7"
  }
 },
 "nbformat": 4,
 "nbformat_minor": 5
}
