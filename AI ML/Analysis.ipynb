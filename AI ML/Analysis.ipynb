{
 "cells": [
  {
   "cell_type": "code",
   "execution_count": null,
   "id": "97fb2f87",
   "metadata": {},
   "outputs": [],
   "source": [
    "import Calculator as calc"
   ]
  },
  {
   "cell_type": "markdown",
   "id": "12776103",
   "metadata": {},
   "source": [
    "# FUNCTIONS"
   ]
  },
  {
   "cell_type": "code",
   "execution_count": 7,
   "id": "b2ca6bf9",
   "metadata": {},
   "outputs": [],
   "source": [
    "def sum(a, b):\n",
    "    return a + b"
   ]
  },
  {
   "cell_type": "markdown",
   "id": "78f9e1b6",
   "metadata": {},
   "source": [
    "# NUMPY\n",
    "installing numpy"
   ]
  },
  {
   "cell_type": "code",
   "execution_count": 19,
   "id": "519dcfa7",
   "metadata": {},
   "outputs": [
    {
     "name": "stdout",
     "output_type": "stream",
     "text": [
      "[1 2 3 4 5]\n"
     ]
    }
   ],
   "source": [
    "import numpy as np\n",
    "x=np.array([1,2,3,4,5])\n",
    "print(x)"
   ]
  },
  {
   "cell_type": "markdown",
   "id": "8bfa5bae",
   "metadata": {},
   "source": [
    "# PANDAS\n",
    "installing pandas"
   ]
  },
  {
   "cell_type": "code",
   "execution_count": 2,
   "id": "f075fcad",
   "metadata": {},
   "outputs": [
    {
     "name": "stdout",
     "output_type": "stream",
     "text": [
      "    Name  Age\n",
      "0    Tom   20\n",
      "1   nick   21\n",
      "2  krish   19\n",
      "3   jack   18\n",
      "{'Name': ['Tom', 'nick', 'krish', 'jack'], 'Age': [20, 21, 19, 18]}\n"
     ]
    }
   ],
   "source": [
    "import pandas as pd\n",
    "data={'Name':['Tom','nick','krish','jack'],'Age':[20,21,19,18]}\n",
    "df=pd.DataFrame(data)\n",
    "print(df)\n",
    "print(data)"
   ]
  },
  {
   "cell_type": "code",
   "execution_count": 3,
   "id": "57c02aa0",
   "metadata": {},
   "outputs": [
    {
     "name": "stdout",
     "output_type": "stream",
     "text": [
      "              Date      Time    Booking ID   Booking Status   Customer ID  \\\n",
      "0       2024-03-23  12:29:38  \"CNR5884300\"  No Driver Found  \"CID1982111\"   \n",
      "1       2024-11-29  18:01:39  \"CNR1326809\"       Incomplete  \"CID4604802\"   \n",
      "2       2024-08-23  08:56:10  \"CNR8494506\"        Completed  \"CID9202816\"   \n",
      "3       2024-10-21  17:17:25  \"CNR8906825\"        Completed  \"CID2610914\"   \n",
      "4       2024-09-16  22:08:00  \"CNR1950162\"        Completed  \"CID9933542\"   \n",
      "...            ...       ...           ...              ...           ...   \n",
      "149995  2024-11-11  19:34:01  \"CNR6500631\"        Completed  \"CID4337371\"   \n",
      "149996  2024-11-24  15:55:09  \"CNR2468611\"        Completed  \"CID2325623\"   \n",
      "149997  2024-09-18  10:55:15  \"CNR6358306\"        Completed  \"CID9925486\"   \n",
      "149998  2024-10-05  07:53:34  \"CNR3030099\"        Completed  \"CID9415487\"   \n",
      "149999  2024-03-10  15:38:03  \"CNR3447390\"        Completed  \"CID4108667\"   \n",
      "\n",
      "         Vehicle Type         Pickup Location      Drop Location  Avg VTAT  \\\n",
      "0               eBike             Palam Vihar            Jhilmil       NaN   \n",
      "1            Go Sedan           Shastri Nagar  Gurgaon Sector 56       4.9   \n",
      "2                Auto                 Khandsa      Malviya Nagar      13.4   \n",
      "3       Premier Sedan     Central Secretariat           Inderlok      13.1   \n",
      "4                Bike        Ghitorni Village        Khan Market       5.3   \n",
      "...               ...                     ...                ...       ...   \n",
      "149995        Go Mini                 MG Road           Ghitorni      10.2   \n",
      "149996        Go Mini        Golf Course Road         Akshardham       5.1   \n",
      "149997       Go Sedan  Satguru Ram Singh Marg           Jor Bagh       2.7   \n",
      "149998           Auto               Ghaziabad         Saidulajab       6.9   \n",
      "149999  Premier Sedan         Ashok Park Main  Gurgaon Sector 29       3.5   \n",
      "\n",
      "        Avg CTAT  ...  Reason for cancelling by Customer  \\\n",
      "0            NaN  ...                                NaN   \n",
      "1           14.0  ...                                NaN   \n",
      "2           25.8  ...                                NaN   \n",
      "3           28.5  ...                                NaN   \n",
      "4           19.6  ...                                NaN   \n",
      "...          ...  ...                                ...   \n",
      "149995      44.4  ...                                NaN   \n",
      "149996      30.8  ...                                NaN   \n",
      "149997      23.4  ...                                NaN   \n",
      "149998      39.6  ...                                NaN   \n",
      "149999      33.7  ...                                NaN   \n",
      "\n",
      "       Cancelled Rides by Driver  Driver Cancellation Reason Incomplete Rides  \\\n",
      "0                            NaN                         NaN              NaN   \n",
      "1                            NaN                         NaN              1.0   \n",
      "2                            NaN                         NaN              NaN   \n",
      "3                            NaN                         NaN              NaN   \n",
      "4                            NaN                         NaN              NaN   \n",
      "...                          ...                         ...              ...   \n",
      "149995                       NaN                         NaN              NaN   \n",
      "149996                       NaN                         NaN              NaN   \n",
      "149997                       NaN                         NaN              NaN   \n",
      "149998                       NaN                         NaN              NaN   \n",
      "149999                       NaN                         NaN              NaN   \n",
      "\n",
      "        Incomplete Rides Reason Booking Value  Ride Distance  Driver Ratings  \\\n",
      "0                           NaN           NaN            NaN             NaN   \n",
      "1             Vehicle Breakdown         237.0           5.73             NaN   \n",
      "2                           NaN         627.0          13.58             4.9   \n",
      "3                           NaN         416.0          34.02             4.6   \n",
      "4                           NaN         737.0          48.21             4.1   \n",
      "...                         ...           ...            ...             ...   \n",
      "149995                      NaN         475.0          40.08             3.7   \n",
      "149996                      NaN        1093.0          21.31             4.8   \n",
      "149997                      NaN         852.0          15.93             3.9   \n",
      "149998                      NaN         333.0          45.54             4.1   \n",
      "149999                      NaN         806.0          21.19             4.6   \n",
      "\n",
      "        Customer Rating  Payment Method  \n",
      "0                   NaN             NaN  \n",
      "1                   NaN             UPI  \n",
      "2                   4.9      Debit Card  \n",
      "3                   5.0             UPI  \n",
      "4                   4.3             UPI  \n",
      "...                 ...             ...  \n",
      "149995              4.1     Uber Wallet  \n",
      "149996              5.0             UPI  \n",
      "149997              4.4            Cash  \n",
      "149998              3.7             UPI  \n",
      "149999              4.9     Credit Card  \n",
      "\n",
      "[150000 rows x 21 columns]\n"
     ]
    }
   ],
   "source": [
    "df=pd.read_csv('ncr_ride_bookings.csv')\n",
    "print(df)"
   ]
  },
  {
   "cell_type": "markdown",
   "id": "7a93089f",
   "metadata": {},
   "source": [
    "# MATPLOTLIB"
   ]
  },
  {
   "cell_type": "code",
   "execution_count": 16,
   "id": "5ceda69d",
   "metadata": {},
   "outputs": [
    {
     "data": {
      "image/png": "[encoded data removed]",
      "text/plain": [
       "<Figure size 640x480 with 1 Axes>"
      ]
     },
     "metadata": {},
     "output_type": "display_data"
    }
   ],
   "source": [
    "import matplotlib.pyplot as plt\n",
    "x=[0,2,4,6,8]\n",
    "y=[0,4,16,36,64]\n",
    "fig, ax=plt.subplots()\n",
    "ax.plot(x,y,marker='o',label=\"Data Points\")\n",
    "ax.set_xlabel(\"X-axis\") \n",
    "ax.set_ylabel(\"Y-axis\")\n",
    "ax.set_title(\"Basic Components of Matplotlib Figure\")\n",
    "ax.legend()\n",
    "plt.show()"
   ]
  },
  {
   "cell_type": "markdown",
   "id": "ab18f8b5",
   "metadata": {},
   "source": [
    "# USE ALL LIBRARIES\n",
    "\n"
   ]
  },
  {
   "cell_type": "code",
   "execution_count": 20,
   "id": "76a92774",
   "metadata": {},
   "outputs": [
    {
     "data": {
      "image/png": "[encoded data removed]",
      "text/plain": [
       "<Figure size 640x480 with 1 Axes>"
      ]
     },
     "metadata": {},
     "output_type": "display_data"
    }
   ],
   "source": [
    "arr=np.array([10,20,30])\n",
    "df=pd.DataFrame({\"Numbers\":arr})\n",
    "plt.bar(df.index,df[\"Numbers\"]) \n",
    "plt.show()"
   ]
  },
  {
   "cell_type": "code",
   "execution_count": null,
   "id": "7f7ffd3b",
   "metadata": {},
   "outputs": [],
   "source": []
  }
 ],
 "metadata": {
  "kernelspec": {
   "display_name": "my_env",
   "language": "python",
   "name": "python3"
  },
  "language_info": {
   "codemirror_mode": {
    "name": "ipython",
    "version": 3
   },
   "file_extension": ".py",
   "mimetype": "text/x-python",
   "name": "python",
   "nbconvert_exporter": "python",
   "pygments_lexer": "ipython3",
   "version": "3.13.7"
  }
 },
 "nbformat": 4,
 "nbformat_minor": 5
}
